{
 "cells": [
  {
   "cell_type": "markdown",
   "id": "35b8e2b4",
   "metadata": {},
   "source": [
    "# Fractional hybridization of Carbon atoms\n",
    "\n",
    "This Jupyter Notebook illustrates how to compute hybridization indexes of C atoms from xyz structure files of molecular systems using few lines of Python code. Some of the functions defined below are re-usable for other purposes. \n",
    "\n",
    "First, let review some basic concepts about hybridization. Let consider a C atom using some kind of $sp^{\\tau}$ hybrid orbitals to form $\\sigma$ bonds with the neighboring substituents. The (unnormalized) hybrids can be represented in the form:\n",
    "\n",
    "\n",
    "\\begin{equation}\n",
    "|\\psi_i \\rangle = |s\\rangle + \\sqrt{\\tau_i}|p\\rangle\n",
    "\\end{equation}\n",
    "\n",
    "where $|s\\rangle$ describes a (total-symmetric) $s$ orbital and $|p\\rangle$ a directional $p$-orbital, while\n",
    "$\\tau_i$ is the fraction of $p$ character of the hybrid, a.k.a. the *hybridization index*. Notice that $|s\\rangle$, $|p\\rangle$ represent a basis in which the hybrid orbital is expanded; $|p\\rangle$, being a directional orbital, can be further expanded in the local basis $|p_x\\rangle, |p_y\\rangle, |p_z\\rangle$. Assuming\n",
    "orthogonality w.r.t. to the scalar product defined in the Hilbert space $H$ spanned by the hybrids, we have:\n",
    "\n",
    "\\begin{equation}\n",
    "\\langle \\psi_i | \\psi_j \\rangle = 1 + \\sqrt{\\tau_i \\tau_j}\\cos(\\theta_{ij}) = \\delta_{ij}\n",
    "\\end{equation}\n",
    "\n",
    "In the hypothesis of non-bent bonds, $\\theta_{ij}$ are the corresponding bond angles. Therefore, the hybridization indexes $\\tau_i$ can be computed directly from the geometry around the C atom as:\n",
    "\n",
    "\\begin{equation}\n",
    "\\boxed{\\cos(\\theta_{ij}) = -\\frac{1}{\\sqrt{\\tau_i\\tau_j}}}\n",
    "\\end{equation}\n",
    "\n",
    "The above equation defines a system of three equations in three unknowns (namely $\\tau_i$), which can be easily solved to give:\n",
    "\n",
    "\\begin{equation}\n",
    "\\boxed{\\tau_i = \\frac{\\cos(\\theta_{jk})}{\\cos(\\theta_{ij})\\cos(\\theta_{ik})}}\n",
    "\\end{equation}\n",
    "\n",
    "with $i\\neq j \\neq k$. Notice that for the $\\pi$-like orbital we may write:\n",
    "\n",
    "\\begin{equation}\n",
    "|\\psi_{\\pi}\\rangle = |s\\rangle + \\sqrt{\\lambda} |p\\rangle\n",
    "\\end{equation}\n",
    "\n",
    "thus defining three additional equations of the same type as above, involving the angles $(\\theta_{1\\pi}, \\theta_{2\\pi}, \\theta_{3\\pi})$. The problem is only apparently overdetermined because the orientation of the fourth orbital actually follows from orthogonality once the orientation of the first three is given (a\n",
    "consequence of having a 4-dimensional function space in 3-dimensional Euclidean space). The hybridization index   for the $\\pi$-like orbital can thus be obtained by the conservation of $p$ (or $s$) weights upon hybridization. The latter simply follows from the condition:\n",
    "\n",
    "\\begin{equation}\n",
    "\\sum_{i=1}^3 ||\\psi_i||^2 + ||\\psi_{\\pi}||^2 = 1\n",
    "\\end{equation}\n",
    "\n",
    "which leads to:\n",
    "\n",
    "\\begin{equation}\n",
    "\\boxed{ \\lambda = \\frac{1}{1-\\sum_i(1+\\tau_i)^{-1}} -1 }\n",
    "\\end{equation}\n",
    "\n",
    "which is singular ($\\lambda \\to + \\infty$) for co-planar $\\sigma$-bonds, i.e. when $\\tau_i = 2$, for $i = 1{-}3$.\n",
    "\n",
    "We can use the above derived equations to compute the hybridization indexes of C atoms of a given molecule from its geometrical structure as given by the xyz file. The steps required for such computation are the following:\n",
    "\n",
    "1. Read the xyz file\n",
    "2. For each atom, find its nearest-neighbors (i.e. its substituents)\n",
    "3. Compute the corresponding bond angles\n",
    "4. Compute the hybridization indexes from the bond angles\n",
    "5. Use the conservation law to compute the hybridization index of the $\\pi$-like orbital\n",
    "\n"
   ]
  },
  {
   "cell_type": "markdown",
   "id": "585465e9",
   "metadata": {},
   "source": [
    "## Read the xyz file\n",
    "\n",
    "With the following code, the xyz file of the molecule is read and the corresponding atom coordinates are stored into a list. We remind that the typical structure of an xyz file is the following: a first row specifying the number of atoms ($N_{at}$) in the structure, a second row specifying the title (optional, it can be left blank) and then a list of atom labels and coordinates (in the format \"Label x y z\")."
   ]
  },
  {
   "cell_type": "code",
   "execution_count": 6,
   "id": "d5ab47ca",
   "metadata": {},
   "outputs": [
    {
     "name": "stdout",
     "output_type": "stream",
     "text": [
      "xyz? coronene.xyz\n"
     ]
    }
   ],
   "source": [
    "# Import relevant packages:\n",
    "\n",
    "from collections import Counter\n",
    "from collections import defaultdict\n",
    "from ssl import HAS_TLSv1_1\n",
    "import sys\n",
    "import numpy as np\n",
    "import math\n",
    "import matplotlib.pyplot as plt\n",
    "\n",
    "# Defining function read_xyz() that reads a xyz file (filename)\n",
    "def read_xyz(filename):\n",
    "    \"\"\"This function reads atom labels and coordinates from a xyz file.\n",
    "    \n",
    "    Args:\n",
    "        filename (string): the name of the xyz file\n",
    "    \n",
    "    Returns:\n",
    "        atoms (list): a list of atom labels \n",
    "        coordinates (list): a list of [x,y,z] coordinates \n",
    "    \n",
    "    Raises:\n",
    "        ValueError: the function raises an error if it reads a number of atoms different from what \n",
    "            specified by the header of the xyz file.\n",
    "    \"\"\"\n",
    "\n",
    "    atoms = []\n",
    "    coordinates = []\n",
    "\n",
    "    xyz_file = open(filename)\n",
    "    \n",
    "    # Reading number of atoms \n",
    "    n_atoms = int(xyz_file.readline())\n",
    "\n",
    "    # Reading title\n",
    "    title = xyz_file.readline()\n",
    "\n",
    "    # Reading atom labels and xyz coordinates \n",
    "    for line in xyz_file:\n",
    "        atom, x, y, z = line.split()\n",
    "        atoms.append(atom)\n",
    "        coordinates.append([float(x),float(y), float(z)])\n",
    "\n",
    "    xyz_file.close()\n",
    "\n",
    "    # Check if number of atoms and number of coordinates match \n",
    "    if n_atoms != len(coordinates):\n",
    "        raise ValueError(\"File says %d atoms but read %d points.\" % (n_atoms, len(coordinates)))\n",
    "\n",
    "    return atoms, coordinates\n",
    "\n",
    "# Reading filename from stdin\n",
    "file = input(\"xyz? \")\n",
    "\n",
    "atoms, coordinates = read_xyz(file)"
   ]
  },
  {
   "cell_type": "markdown",
   "id": "617bda7f",
   "metadata": {},
   "source": [
    "Once we have executed the `read_xyz()` function, we can print some information about the molecule, such as the total number of atoms and the number of C atoms. Remind that this notebook and the corresponding Python code has been thought to illustrate the computation of the hybridization indexes of C atoms in a carbon-based molecular systems (hydrocarbons, aromatic molecules, polyciclic aromatic hydrocarbons, etc.). Therefore, we exit the code if the xyz does not contain C atoms. One can modify and re-use the code if needed for other purposes. "
   ]
  },
  {
   "cell_type": "code",
   "execution_count": 7,
   "id": "a5a35aee",
   "metadata": {},
   "outputs": [
    {
     "name": "stdout",
     "output_type": "stream",
     "text": [
      "\n",
      "################################################################################\n",
      "\n",
      "filename:                coronene.xyz\n",
      "number of atoms:         36\n",
      "number of distinct C:    24\n",
      "\n",
      "################################################################################\n"
     ]
    }
   ],
   "source": [
    "# Molecule info:\n",
    "n_atoms = len(atoms)\n",
    "\n",
    "atom_counter = Counter(atoms)\n",
    "n_carbons = atom_counter.get(\"C\", 0)\n",
    "if n_carbons == 0:\n",
    "    sys.exit(\"ERROR! No C atoms in the xyz file!\")\n",
    "\n",
    "print(\"\")\n",
    "print('#'*80)\n",
    "print(\"\")\n",
    "print(\"filename:                %s\" % file)\n",
    "print(\"number of atoms:         %d\" % n_atoms)\n",
    "print(\"number of distinct C:    %d\" % n_carbons)\n",
    "print(\"\")\n",
    "print('#'*80)"
   ]
  },
  {
   "cell_type": "markdown",
   "id": "0b2442fe",
   "metadata": {},
   "source": [
    "## Finding nearest-neighbors \n",
    "\n",
    "To compute the relevant bond angles for the computation of hybridization indexes, we first need to identify  nearest-neighbors of C atoms. Here, we are interested in just the first 3 nearest-neighbors, since it assumed we are dealing with $\\pi$-conjugated systems."
   ]
  },
  {
   "cell_type": "code",
   "execution_count": 8,
   "id": "d79954ab",
   "metadata": {},
   "outputs": [],
   "source": [
    "# Converting coordinates to NumPy array\n",
    "coord_np = np.array(coordinates)\n",
    "\n",
    "def nn(i, coord):\n",
    "    \"\"\" This function determines the first three nearest-neighbors of an atom from the xyz file.\n",
    "\n",
    "    Args:\n",
    "        i (integer): index of the target atom \n",
    "        coord (NumPy array): array specifying xyz coordinates of atoms in the molecule\n",
    "\n",
    "    Returns:\n",
    "        nn_indx (list): list of nearest-neighbors' indexes\n",
    "        nn_dist (list): list of corresponding distances from target atom (i.e. bond distances)\n",
    "    \"\"\"\n",
    "\n",
    "    # Finding number of atoms\n",
    "    natom, ncoord = coord.shape\n",
    "\n",
    "    # Computing Euclidean distances \n",
    "    dist_list = np.array([np.linalg.norm(coord[i]-coord[j]) for j in range(natom) ])\n",
    "    nn_indx = list(np.argsort(dist_list)[1:4])\n",
    "    nn_dist = dist_list[nn_indx]\n",
    "\n",
    "    return nn_indx, nn_dist"
   ]
  },
  {
   "cell_type": "markdown",
   "id": "4c7b1070",
   "metadata": {},
   "source": [
    "As an use example of the above function, let find the nearest-neighbors of the atom of label 1 and the corresponding bond distances:"
   ]
  },
  {
   "cell_type": "code",
   "execution_count": 11,
   "id": "21fc0104",
   "metadata": {},
   "outputs": [
    {
     "name": "stdout",
     "output_type": "stream",
     "text": [
      "Nearest-neighbors of Atom 1 ( a C atom) are: [26, 0, 2].\n",
      "Corresponding bond distances in Angstrom: [1.08689772 1.37369383 1.4251057 ]\n"
     ]
    }
   ],
   "source": [
    "# Finding nearest-neighbors of atom 1 and the corresponding bond distances:\n",
    "nn_1, nn_dist_1 = nn(1, coord_np)\n",
    "\n",
    "print(f\"Nearest-neighbors of Atom 1 ( a {atoms[1]} atom) are: {nn_1}.\")\n",
    "print(f\"Corresponding bond distances in Angstrom: {nn_dist_1}\")"
   ]
  },
  {
   "cell_type": "markdown",
   "id": "8e5ccd19",
   "metadata": {},
   "source": [
    "## Computing bond angles\n",
    "\n",
    "We are now in position to compute the bond angles for any atoms in the molecule. Bond angles are simply given by the dot product between (normalized) bond vectors $v_i$\n",
    "\n",
    "\\begin{equation}\n",
    "\\cos(\\theta_{ij}) = \\frac{ v_i \\cdot v_j}{||v_i|| ||v_j||}\n",
    "\\end{equation}\n",
    "\n",
    "We can again test the function computing bond angles of Atom 1."
   ]
  },
  {
   "cell_type": "code",
   "execution_count": null,
   "id": "7b77086d",
   "metadata": {},
   "outputs": [],
   "source": [
    "def angle(i, coord_np):\n",
    "    '''This function computes bond angles of an atom of index i.\n",
    "\n",
    "    Args:\n",
    "        i (integer) : index of the target atom\n",
    "        coord_np (Numpy array) : array specifying xyz coordinates of atoms in the molecule\n",
    "    \n",
    "    Returns:\n",
    "        dot_list (list) : a list of bond vectors dot products \n",
    "        angles : a list of bond angles\n",
    "    '''\n",
    "    \n",
    "    # Getting first three-nearest neighbors calling function nn():\n",
    "    nn_i, dist_nn_i = nn(i, coord_np)\n",
    "    \n",
    "    # Building vectors connecting atom i to its nearest neighbors and normalizing them:\n",
    "    vector_nn = np.array([coord_np[i] - coord_np[nn_i[j]] for j in range(3)])\n",
    "    unit_vector_nn = np.array([vector_nn[i]/np.linalg.norm(vector_nn[i]) for i in range(3)])\n",
    "    \n",
    "    # Computing dot products between units vetors:\n",
    "    dot_prods = []\n",
    "    prod1 = np.dot(unit_vector_nn[0], unit_vector_nn[1])\n",
    "    prod2 = np.dot(unit_vector_nn[1], unit_vector_nn[2])\n",
    "    prod3 = np.dot(unit_vector_nn[0], unit_vector_nn[2])\n",
    "    dot_prods.extend([prod1, prod2, prod3])\n",
    "\n",
    "    dot_list = list(dot_prods)\n",
    "    angles = [math.degrees(np.arccos(x)) for x in dot_prods]\n",
    "\n",
    "    return dot_list, angles\n",
    "\n",
    "# Testing the function against atom 1:\n",
    "atom1_dot_prods, atom1_angles = angle()\n",
    "\n",
    "print(f\"Bond angles of Atom 1 are {})"
   ]
  }
 ],
 "metadata": {
  "kernelspec": {
   "display_name": "Python 3 (ipykernel)",
   "language": "python",
   "name": "python3"
  },
  "language_info": {
   "codemirror_mode": {
    "name": "ipython",
    "version": 3
   },
   "file_extension": ".py",
   "mimetype": "text/x-python",
   "name": "python",
   "nbconvert_exporter": "python",
   "pygments_lexer": "ipython3",
   "version": "3.10.1"
  }
 },
 "nbformat": 4,
 "nbformat_minor": 5
}
